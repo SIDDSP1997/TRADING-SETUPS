{
 "cells": [
  {
   "cell_type": "code",
   "execution_count": 1,
   "metadata": {},
   "outputs": [
    {
     "data": {
      "text/plain": [
       "\"\\n\\nThe natural tendency of option premium is to depreciate at the open on the following day due to time decay - 'theta'\\nwhich is one of the option greeks. The rare occurence will be appreciation of the option premium. The idea is to Deploy\\nShort Strangle when the option premium apprecites.\\n\\n\""
      ]
     },
     "execution_count": 1,
     "metadata": {},
     "output_type": "execute_result"
    }
   ],
   "source": [
    "# What happens when???\n",
    "\n",
    "\"\"\"\n",
    "\n",
    "The natural tendency of option premium is to depreciate at the open on the following day due to time decay - 'theta'\n",
    "which is one of the option greeks. The rare occurence will be appreciation of the option premium. The idea is to Deploy\n",
    "Short Strangle when the option premium apprecites.\n",
    "\n",
    "\"\"\"\n",
    "\n",
    "# Problem Statement: What happens to the Short Strangle when it is deployed on the basis of appreciated option premium???"
   ]
  },
  {
   "cell_type": "code",
   "execution_count": 2,
   "metadata": {},
   "outputs": [],
   "source": [
    "import pandas as pd\n",
    "import numpy as np\n",
    "import matplotlib.pyplot as plt\n",
    "import seaborn as sb\n",
    "\n",
    "#to display all rows and columns\n",
    "pd.set_option('display.max_rows', None)\n",
    "pd.set_option('display.max_columns', None)\n",
    "pd.set_option('display.expand_frame_repr', False)"
   ]
  },
  {
   "cell_type": "code",
   "execution_count": 3,
   "metadata": {},
   "outputs": [
    {
     "data": {
      "text/html": [
       "<div>\n",
       "<style scoped>\n",
       "    .dataframe tbody tr th:only-of-type {\n",
       "        vertical-align: middle;\n",
       "    }\n",
       "\n",
       "    .dataframe tbody tr th {\n",
       "        vertical-align: top;\n",
       "    }\n",
       "\n",
       "    .dataframe thead th {\n",
       "        text-align: right;\n",
       "    }\n",
       "</style>\n",
       "<table border=\"1\" class=\"dataframe\">\n",
       "  <thead>\n",
       "    <tr style=\"text-align: right;\">\n",
       "      <th></th>\n",
       "      <th>DATE</th>\n",
       "      <th>CE</th>\n",
       "      <th>CE OPEN</th>\n",
       "      <th>CE CLOSE</th>\n",
       "      <th>CE PREMIUM AT OPEN</th>\n",
       "      <th>PE</th>\n",
       "      <th>PE OPEN</th>\n",
       "      <th>PE CLOSE</th>\n",
       "      <th>PE PREMIUM AT OPEN</th>\n",
       "      <th>TOTAL PREMIUM</th>\n",
       "      <th>PREMIUM DEPRECIATION</th>\n",
       "      <th>Y</th>\n",
       "      <th>SELL TOTAL</th>\n",
       "      <th>COVER TOTAL</th>\n",
       "      <th>NET</th>\n",
       "    </tr>\n",
       "  </thead>\n",
       "  <tbody>\n",
       "    <tr>\n",
       "      <th>0</th>\n",
       "      <td>Friday, 3 January, 2020</td>\n",
       "      <td>32300</td>\n",
       "      <td>249.95</td>\n",
       "      <td>135.20</td>\n",
       "      <td>223.00</td>\n",
       "      <td>32400</td>\n",
       "      <td>200.00</td>\n",
       "      <td>415.15</td>\n",
       "      <td>126.95</td>\n",
       "      <td>349.95</td>\n",
       "      <td>NaN</td>\n",
       "      <td>SHORT</td>\n",
       "      <td>449.95</td>\n",
       "      <td>550.35</td>\n",
       "      <td>-100.40</td>\n",
       "    </tr>\n",
       "    <tr>\n",
       "      <th>1</th>\n",
       "      <td>Monday, 6 January, 2020</td>\n",
       "      <td>31900</td>\n",
       "      <td>240.15</td>\n",
       "      <td>45.20</td>\n",
       "      <td>229.70</td>\n",
       "      <td>32000</td>\n",
       "      <td>238.85</td>\n",
       "      <td>750.65</td>\n",
       "      <td>149.30</td>\n",
       "      <td>379.00</td>\n",
       "      <td>-8.301186</td>\n",
       "      <td>SHORT</td>\n",
       "      <td>479.00</td>\n",
       "      <td>795.85</td>\n",
       "      <td>-316.85</td>\n",
       "    </tr>\n",
       "    <tr>\n",
       "      <th>2</th>\n",
       "      <td>Tuesday, 7 January, 2020</td>\n",
       "      <td>31500</td>\n",
       "      <td>225.15</td>\n",
       "      <td>145.10</td>\n",
       "      <td>127.10</td>\n",
       "      <td>31600</td>\n",
       "      <td>248.80</td>\n",
       "      <td>304.85</td>\n",
       "      <td>246.85</td>\n",
       "      <td>373.95</td>\n",
       "      <td>1.332454</td>\n",
       "      <td>NEUTRAL</td>\n",
       "      <td>473.95</td>\n",
       "      <td>449.95</td>\n",
       "      <td>24.00</td>\n",
       "    </tr>\n",
       "    <tr>\n",
       "      <th>3</th>\n",
       "      <td>Wednesday, 8 January, 2020</td>\n",
       "      <td>30900</td>\n",
       "      <td>338.00</td>\n",
       "      <td>529.75</td>\n",
       "      <td>242.50</td>\n",
       "      <td>31000</td>\n",
       "      <td>197.75</td>\n",
       "      <td>85.85</td>\n",
       "      <td>193.25</td>\n",
       "      <td>435.75</td>\n",
       "      <td>-16.526274</td>\n",
       "      <td>LONG</td>\n",
       "      <td>535.75</td>\n",
       "      <td>615.60</td>\n",
       "      <td>-79.85</td>\n",
       "    </tr>\n",
       "    <tr>\n",
       "      <th>4</th>\n",
       "      <td>Thursday, 9 January, 2020</td>\n",
       "      <td>31700</td>\n",
       "      <td>152.30</td>\n",
       "      <td>402.65</td>\n",
       "      <td>104.05</td>\n",
       "      <td>31800</td>\n",
       "      <td>204.85</td>\n",
       "      <td>0.30</td>\n",
       "      <td>153.10</td>\n",
       "      <td>257.15</td>\n",
       "      <td>40.986804</td>\n",
       "      <td>LONG</td>\n",
       "      <td>357.15</td>\n",
       "      <td>402.95</td>\n",
       "      <td>-45.80</td>\n",
       "    </tr>\n",
       "  </tbody>\n",
       "</table>\n",
       "</div>"
      ],
      "text/plain": [
       "                         DATE     CE  CE OPEN  CE CLOSE  CE PREMIUM AT OPEN     PE  PE OPEN  PE CLOSE  PE PREMIUM AT OPEN  TOTAL PREMIUM  PREMIUM DEPRECIATION        Y  SELL TOTAL  COVER TOTAL     NET\n",
       "0     Friday, 3 January, 2020  32300   249.95    135.20              223.00  32400   200.00    415.15              126.95         349.95                   NaN    SHORT      449.95       550.35 -100.40\n",
       "1     Monday, 6 January, 2020  31900   240.15     45.20              229.70  32000   238.85    750.65              149.30         379.00             -8.301186    SHORT      479.00       795.85 -316.85\n",
       "2    Tuesday, 7 January, 2020  31500   225.15    145.10              127.10  31600   248.80    304.85              246.85         373.95              1.332454  NEUTRAL      473.95       449.95   24.00\n",
       "3  Wednesday, 8 January, 2020  30900   338.00    529.75              242.50  31000   197.75     85.85              193.25         435.75            -16.526274     LONG      535.75       615.60  -79.85\n",
       "4   Thursday, 9 January, 2020  31700   152.30    402.65              104.05  31800   204.85      0.30              153.10         257.15             40.986804     LONG      357.15       402.95  -45.80"
      ]
     },
     "execution_count": 3,
     "metadata": {},
     "output_type": "execute_result"
    }
   ],
   "source": [
    "df = pd.read_excel('../Documents/BN2020-22.xlsx')\n",
    "df.head()"
   ]
  },
  {
   "cell_type": "code",
   "execution_count": 4,
   "metadata": {},
   "outputs": [],
   "source": [
    "df.columns = df.columns.str.replace(' ', '')"
   ]
  },
  {
   "cell_type": "code",
   "execution_count": 5,
   "metadata": {},
   "outputs": [],
   "source": [
    "df.DATE = df.DATE.astype('datetime64')"
   ]
  },
  {
   "cell_type": "code",
   "execution_count": 6,
   "metadata": {},
   "outputs": [],
   "source": [
    "df['DATE'] = pd.to_datetime(df['DATE'])\n",
    "df['DAY'] = df['DATE'].dt.day_name()\n",
    "df['MONTH'] = df['DATE'].dt.month\n",
    "df['YEAR'] = df['DATE'].dt.year\n",
    "df['pct_return'] = ((df.NET*25)/250000)*100"
   ]
  },
  {
   "cell_type": "code",
   "execution_count": 7,
   "metadata": {},
   "outputs": [
    {
     "data": {
      "text/html": [
       "<div>\n",
       "<style scoped>\n",
       "    .dataframe tbody tr th:only-of-type {\n",
       "        vertical-align: middle;\n",
       "    }\n",
       "\n",
       "    .dataframe tbody tr th {\n",
       "        vertical-align: top;\n",
       "    }\n",
       "\n",
       "    .dataframe thead th {\n",
       "        text-align: right;\n",
       "    }\n",
       "</style>\n",
       "<table border=\"1\" class=\"dataframe\">\n",
       "  <thead>\n",
       "    <tr style=\"text-align: right;\">\n",
       "      <th></th>\n",
       "      <th>DATE</th>\n",
       "      <th>CE</th>\n",
       "      <th>CEOPEN</th>\n",
       "      <th>CECLOSE</th>\n",
       "      <th>CEPREMIUMATOPEN</th>\n",
       "      <th>PE</th>\n",
       "      <th>PEOPEN</th>\n",
       "      <th>PECLOSE</th>\n",
       "      <th>PEPREMIUMATOPEN</th>\n",
       "      <th>TOTALPREMIUM</th>\n",
       "      <th>PREMIUMDEPRECIATION</th>\n",
       "      <th>Y</th>\n",
       "      <th>SELLTOTAL</th>\n",
       "      <th>COVERTOTAL</th>\n",
       "      <th>NET</th>\n",
       "      <th>DAY</th>\n",
       "      <th>MONTH</th>\n",
       "      <th>YEAR</th>\n",
       "      <th>pct_return</th>\n",
       "    </tr>\n",
       "  </thead>\n",
       "  <tbody>\n",
       "    <tr>\n",
       "      <th>0</th>\n",
       "      <td>2020-01-03</td>\n",
       "      <td>32300</td>\n",
       "      <td>249.95</td>\n",
       "      <td>135.20</td>\n",
       "      <td>223.00</td>\n",
       "      <td>32400</td>\n",
       "      <td>200.00</td>\n",
       "      <td>415.15</td>\n",
       "      <td>126.95</td>\n",
       "      <td>349.95</td>\n",
       "      <td>NaN</td>\n",
       "      <td>SHORT</td>\n",
       "      <td>449.95</td>\n",
       "      <td>550.35</td>\n",
       "      <td>-100.40</td>\n",
       "      <td>Friday</td>\n",
       "      <td>1</td>\n",
       "      <td>2020</td>\n",
       "      <td>-1.0040</td>\n",
       "    </tr>\n",
       "    <tr>\n",
       "      <th>1</th>\n",
       "      <td>2020-01-06</td>\n",
       "      <td>31900</td>\n",
       "      <td>240.15</td>\n",
       "      <td>45.20</td>\n",
       "      <td>229.70</td>\n",
       "      <td>32000</td>\n",
       "      <td>238.85</td>\n",
       "      <td>750.65</td>\n",
       "      <td>149.30</td>\n",
       "      <td>379.00</td>\n",
       "      <td>-8.301186</td>\n",
       "      <td>SHORT</td>\n",
       "      <td>479.00</td>\n",
       "      <td>795.85</td>\n",
       "      <td>-316.85</td>\n",
       "      <td>Monday</td>\n",
       "      <td>1</td>\n",
       "      <td>2020</td>\n",
       "      <td>-3.1685</td>\n",
       "    </tr>\n",
       "    <tr>\n",
       "      <th>2</th>\n",
       "      <td>2020-01-07</td>\n",
       "      <td>31500</td>\n",
       "      <td>225.15</td>\n",
       "      <td>145.10</td>\n",
       "      <td>127.10</td>\n",
       "      <td>31600</td>\n",
       "      <td>248.80</td>\n",
       "      <td>304.85</td>\n",
       "      <td>246.85</td>\n",
       "      <td>373.95</td>\n",
       "      <td>1.332454</td>\n",
       "      <td>NEUTRAL</td>\n",
       "      <td>473.95</td>\n",
       "      <td>449.95</td>\n",
       "      <td>24.00</td>\n",
       "      <td>Tuesday</td>\n",
       "      <td>1</td>\n",
       "      <td>2020</td>\n",
       "      <td>0.2400</td>\n",
       "    </tr>\n",
       "    <tr>\n",
       "      <th>3</th>\n",
       "      <td>2020-01-08</td>\n",
       "      <td>30900</td>\n",
       "      <td>338.00</td>\n",
       "      <td>529.75</td>\n",
       "      <td>242.50</td>\n",
       "      <td>31000</td>\n",
       "      <td>197.75</td>\n",
       "      <td>85.85</td>\n",
       "      <td>193.25</td>\n",
       "      <td>435.75</td>\n",
       "      <td>-16.526274</td>\n",
       "      <td>LONG</td>\n",
       "      <td>535.75</td>\n",
       "      <td>615.60</td>\n",
       "      <td>-79.85</td>\n",
       "      <td>Wednesday</td>\n",
       "      <td>1</td>\n",
       "      <td>2020</td>\n",
       "      <td>-0.7985</td>\n",
       "    </tr>\n",
       "    <tr>\n",
       "      <th>4</th>\n",
       "      <td>2020-01-09</td>\n",
       "      <td>31700</td>\n",
       "      <td>152.30</td>\n",
       "      <td>402.65</td>\n",
       "      <td>104.05</td>\n",
       "      <td>31800</td>\n",
       "      <td>204.85</td>\n",
       "      <td>0.30</td>\n",
       "      <td>153.10</td>\n",
       "      <td>257.15</td>\n",
       "      <td>40.986804</td>\n",
       "      <td>LONG</td>\n",
       "      <td>357.15</td>\n",
       "      <td>402.95</td>\n",
       "      <td>-45.80</td>\n",
       "      <td>Thursday</td>\n",
       "      <td>1</td>\n",
       "      <td>2020</td>\n",
       "      <td>-0.4580</td>\n",
       "    </tr>\n",
       "  </tbody>\n",
       "</table>\n",
       "</div>"
      ],
      "text/plain": [
       "        DATE     CE  CEOPEN  CECLOSE  CEPREMIUMATOPEN     PE  PEOPEN  PECLOSE  PEPREMIUMATOPEN  TOTALPREMIUM  PREMIUMDEPRECIATION        Y  SELLTOTAL  COVERTOTAL     NET        DAY  MONTH  YEAR  pct_return\n",
       "0 2020-01-03  32300  249.95   135.20           223.00  32400  200.00   415.15           126.95        349.95                  NaN    SHORT     449.95      550.35 -100.40     Friday      1  2020     -1.0040\n",
       "1 2020-01-06  31900  240.15    45.20           229.70  32000  238.85   750.65           149.30        379.00            -8.301186    SHORT     479.00      795.85 -316.85     Monday      1  2020     -3.1685\n",
       "2 2020-01-07  31500  225.15   145.10           127.10  31600  248.80   304.85           246.85        373.95             1.332454  NEUTRAL     473.95      449.95   24.00    Tuesday      1  2020      0.2400\n",
       "3 2020-01-08  30900  338.00   529.75           242.50  31000  197.75    85.85           193.25        435.75           -16.526274     LONG     535.75      615.60  -79.85  Wednesday      1  2020     -0.7985\n",
       "4 2020-01-09  31700  152.30   402.65           104.05  31800  204.85     0.30           153.10        257.15            40.986804     LONG     357.15      402.95  -45.80   Thursday      1  2020     -0.4580"
      ]
     },
     "execution_count": 7,
     "metadata": {},
     "output_type": "execute_result"
    }
   ],
   "source": [
    "df.head()"
   ]
  },
  {
   "cell_type": "code",
   "execution_count": 8,
   "metadata": {},
   "outputs": [],
   "source": [
    "#df.PREMIUMDEPRECIATION = df.PREMIUMDEPRECIATION.fillna(0)"
   ]
  },
  {
   "cell_type": "code",
   "execution_count": 9,
   "metadata": {},
   "outputs": [],
   "source": [
    "#df.head(1)"
   ]
  },
  {
   "cell_type": "code",
   "execution_count": 10,
   "metadata": {},
   "outputs": [],
   "source": [
    "df = df.dropna()"
   ]
  },
  {
   "cell_type": "code",
   "execution_count": 11,
   "metadata": {},
   "outputs": [
    {
     "data": {
      "text/html": [
       "<div>\n",
       "<style scoped>\n",
       "    .dataframe tbody tr th:only-of-type {\n",
       "        vertical-align: middle;\n",
       "    }\n",
       "\n",
       "    .dataframe tbody tr th {\n",
       "        vertical-align: top;\n",
       "    }\n",
       "\n",
       "    .dataframe thead th {\n",
       "        text-align: right;\n",
       "    }\n",
       "</style>\n",
       "<table border=\"1\" class=\"dataframe\">\n",
       "  <thead>\n",
       "    <tr style=\"text-align: right;\">\n",
       "      <th></th>\n",
       "      <th>DATE</th>\n",
       "      <th>CE</th>\n",
       "      <th>CEOPEN</th>\n",
       "      <th>CECLOSE</th>\n",
       "      <th>CEPREMIUMATOPEN</th>\n",
       "      <th>PE</th>\n",
       "      <th>PEOPEN</th>\n",
       "      <th>PECLOSE</th>\n",
       "      <th>PEPREMIUMATOPEN</th>\n",
       "      <th>TOTALPREMIUM</th>\n",
       "      <th>PREMIUMDEPRECIATION</th>\n",
       "      <th>Y</th>\n",
       "      <th>SELLTOTAL</th>\n",
       "      <th>COVERTOTAL</th>\n",
       "      <th>NET</th>\n",
       "      <th>DAY</th>\n",
       "      <th>MONTH</th>\n",
       "      <th>YEAR</th>\n",
       "      <th>pct_return</th>\n",
       "    </tr>\n",
       "  </thead>\n",
       "  <tbody>\n",
       "    <tr>\n",
       "      <th>1</th>\n",
       "      <td>2020-01-06</td>\n",
       "      <td>31900</td>\n",
       "      <td>240.15</td>\n",
       "      <td>45.20</td>\n",
       "      <td>229.70</td>\n",
       "      <td>32000</td>\n",
       "      <td>238.85</td>\n",
       "      <td>750.65</td>\n",
       "      <td>149.30</td>\n",
       "      <td>379.00</td>\n",
       "      <td>-8.301186</td>\n",
       "      <td>SHORT</td>\n",
       "      <td>479.00</td>\n",
       "      <td>795.85</td>\n",
       "      <td>-316.85</td>\n",
       "      <td>Monday</td>\n",
       "      <td>1</td>\n",
       "      <td>2020</td>\n",
       "      <td>-3.1685</td>\n",
       "    </tr>\n",
       "    <tr>\n",
       "      <th>2</th>\n",
       "      <td>2020-01-07</td>\n",
       "      <td>31500</td>\n",
       "      <td>225.15</td>\n",
       "      <td>145.10</td>\n",
       "      <td>127.10</td>\n",
       "      <td>31600</td>\n",
       "      <td>248.80</td>\n",
       "      <td>304.85</td>\n",
       "      <td>246.85</td>\n",
       "      <td>373.95</td>\n",
       "      <td>1.332454</td>\n",
       "      <td>NEUTRAL</td>\n",
       "      <td>473.95</td>\n",
       "      <td>449.95</td>\n",
       "      <td>24.00</td>\n",
       "      <td>Tuesday</td>\n",
       "      <td>1</td>\n",
       "      <td>2020</td>\n",
       "      <td>0.2400</td>\n",
       "    </tr>\n",
       "    <tr>\n",
       "      <th>3</th>\n",
       "      <td>2020-01-08</td>\n",
       "      <td>30900</td>\n",
       "      <td>338.00</td>\n",
       "      <td>529.75</td>\n",
       "      <td>242.50</td>\n",
       "      <td>31000</td>\n",
       "      <td>197.75</td>\n",
       "      <td>85.85</td>\n",
       "      <td>193.25</td>\n",
       "      <td>435.75</td>\n",
       "      <td>-16.526274</td>\n",
       "      <td>LONG</td>\n",
       "      <td>535.75</td>\n",
       "      <td>615.60</td>\n",
       "      <td>-79.85</td>\n",
       "      <td>Wednesday</td>\n",
       "      <td>1</td>\n",
       "      <td>2020</td>\n",
       "      <td>-0.7985</td>\n",
       "    </tr>\n",
       "    <tr>\n",
       "      <th>4</th>\n",
       "      <td>2020-01-09</td>\n",
       "      <td>31700</td>\n",
       "      <td>152.30</td>\n",
       "      <td>402.65</td>\n",
       "      <td>104.05</td>\n",
       "      <td>31800</td>\n",
       "      <td>204.85</td>\n",
       "      <td>0.30</td>\n",
       "      <td>153.10</td>\n",
       "      <td>257.15</td>\n",
       "      <td>40.986804</td>\n",
       "      <td>LONG</td>\n",
       "      <td>357.15</td>\n",
       "      <td>402.95</td>\n",
       "      <td>-45.80</td>\n",
       "      <td>Thursday</td>\n",
       "      <td>1</td>\n",
       "      <td>2020</td>\n",
       "      <td>-0.4580</td>\n",
       "    </tr>\n",
       "    <tr>\n",
       "      <th>6</th>\n",
       "      <td>2020-01-13</td>\n",
       "      <td>32100</td>\n",
       "      <td>285.25</td>\n",
       "      <td>295.70</td>\n",
       "      <td>246.15</td>\n",
       "      <td>32200</td>\n",
       "      <td>290.75</td>\n",
       "      <td>241.10</td>\n",
       "      <td>229.85</td>\n",
       "      <td>476.00</td>\n",
       "      <td>16.027168</td>\n",
       "      <td>NEUTRAL</td>\n",
       "      <td>576.00</td>\n",
       "      <td>536.80</td>\n",
       "      <td>39.20</td>\n",
       "      <td>Monday</td>\n",
       "      <td>1</td>\n",
       "      <td>2020</td>\n",
       "      <td>0.3920</td>\n",
       "    </tr>\n",
       "  </tbody>\n",
       "</table>\n",
       "</div>"
      ],
      "text/plain": [
       "        DATE     CE  CEOPEN  CECLOSE  CEPREMIUMATOPEN     PE  PEOPEN  PECLOSE  PEPREMIUMATOPEN  TOTALPREMIUM  PREMIUMDEPRECIATION        Y  SELLTOTAL  COVERTOTAL     NET        DAY  MONTH  YEAR  pct_return\n",
       "1 2020-01-06  31900  240.15    45.20           229.70  32000  238.85   750.65           149.30        379.00            -8.301186    SHORT     479.00      795.85 -316.85     Monday      1  2020     -3.1685\n",
       "2 2020-01-07  31500  225.15   145.10           127.10  31600  248.80   304.85           246.85        373.95             1.332454  NEUTRAL     473.95      449.95   24.00    Tuesday      1  2020      0.2400\n",
       "3 2020-01-08  30900  338.00   529.75           242.50  31000  197.75    85.85           193.25        435.75           -16.526274     LONG     535.75      615.60  -79.85  Wednesday      1  2020     -0.7985\n",
       "4 2020-01-09  31700  152.30   402.65           104.05  31800  204.85     0.30           153.10        257.15            40.986804     LONG     357.15      402.95  -45.80   Thursday      1  2020     -0.4580\n",
       "6 2020-01-13  32100  285.25   295.70           246.15  32200  290.75   241.10           229.85        476.00            16.027168  NEUTRAL     576.00      536.80   39.20     Monday      1  2020      0.3920"
      ]
     },
     "execution_count": 11,
     "metadata": {},
     "output_type": "execute_result"
    }
   ],
   "source": [
    "df.head()"
   ]
  },
  {
   "cell_type": "code",
   "execution_count": 12,
   "metadata": {},
   "outputs": [],
   "source": [
    "df = df[df.DAY != 'Saturday']"
   ]
  },
  {
   "cell_type": "code",
   "execution_count": 13,
   "metadata": {},
   "outputs": [
    {
     "data": {
      "text/plain": [
       "array(['Monday', 'Tuesday', 'Wednesday', 'Thursday'], dtype=object)"
      ]
     },
     "execution_count": 13,
     "metadata": {},
     "output_type": "execute_result"
    }
   ],
   "source": [
    "df.DAY.unique()"
   ]
  },
  {
   "cell_type": "code",
   "execution_count": 14,
   "metadata": {},
   "outputs": [
    {
     "data": {
      "text/plain": [
       "(510, 19)"
      ]
     },
     "execution_count": 14,
     "metadata": {},
     "output_type": "execute_result"
    }
   ],
   "source": [
    "df.shape"
   ]
  },
  {
   "cell_type": "markdown",
   "metadata": {},
   "source": [
    "# Average Premium Depreciation Day-Wise"
   ]
  },
  {
   "cell_type": "code",
   "execution_count": 15,
   "metadata": {},
   "outputs": [],
   "source": [
    "avg_pre_dep = df.groupby(['DAY'])['PREMIUMDEPRECIATION'].mean()"
   ]
  },
  {
   "cell_type": "code",
   "execution_count": 16,
   "metadata": {},
   "outputs": [
    {
     "data": {
      "image/png": "[encoded data removed]",
      "text/plain": [
       "<Figure size 432x288 with 1 Axes>"
      ]
     },
     "metadata": {},
     "output_type": "display_data"
    }
   ],
   "source": [
    "def add_value_label(x_list,y_list):\n",
    "    for i in range(1, len(x_list)+1):\n",
    "        plt.text(i,y_list[i-1],y_list[i-1])\n",
    "plt.bar(avg_pre_dep.index, avg_pre_dep.values)\n",
    "add_value_label(avg_pre_dep.index,avg_pre_dep.values)\n",
    "plt.show()"
   ]
  },
  {
   "cell_type": "markdown",
   "metadata": {},
   "source": [
    "# Average Net Points Day-Wise"
   ]
  },
  {
   "cell_type": "code",
   "execution_count": 17,
   "metadata": {},
   "outputs": [],
   "source": [
    "avg_net_pts = df.groupby(['DAY'])['NET'].mean()"
   ]
  },
  {
   "cell_type": "code",
   "execution_count": 18,
   "metadata": {},
   "outputs": [
    {
     "data": {
      "image/png": "[encoded data removed]",
      "text/plain": [
       "<Figure size 432x288 with 1 Axes>"
      ]
     },
     "metadata": {},
     "output_type": "display_data"
    }
   ],
   "source": [
    "plt.bar(avg_net_pts.index, avg_net_pts.values)\n",
    "plt.show()"
   ]
  },
  {
   "cell_type": "markdown",
   "metadata": {},
   "source": [
    "# Average Sell Total Day - Wise"
   ]
  },
  {
   "cell_type": "code",
   "execution_count": 19,
   "metadata": {},
   "outputs": [],
   "source": [
    "avg_sell_tot = df.groupby(['DAY'])['SELLTOTAL'].mean()"
   ]
  },
  {
   "cell_type": "code",
   "execution_count": 20,
   "metadata": {},
   "outputs": [
    {
     "data": {
      "image/png": "[encoded data removed]",
      "text/plain": [
       "<Figure size 432x288 with 1 Axes>"
      ]
     },
     "metadata": {},
     "output_type": "display_data"
    }
   ],
   "source": [
    "plt.bar(avg_sell_tot.index, avg_sell_tot.values)\n",
    "plt.show()"
   ]
  },
  {
   "cell_type": "markdown",
   "metadata": {},
   "source": [
    "# Most no. of Positive Trades Day-Wise"
   ]
  },
  {
   "cell_type": "code",
   "execution_count": 21,
   "metadata": {},
   "outputs": [],
   "source": [
    "df_pos = df[df.NET > 0]"
   ]
  },
  {
   "cell_type": "code",
   "execution_count": 22,
   "metadata": {},
   "outputs": [
    {
     "data": {
      "image/png": "[encoded data removed]",
      "text/plain": [
       "<Figure size 432x288 with 1 Axes>"
      ]
     },
     "metadata": {},
     "output_type": "display_data"
    }
   ],
   "source": [
    "sb.countplot(df_pos.DAY)\n",
    "plt.show()"
   ]
  },
  {
   "cell_type": "code",
   "execution_count": 23,
   "metadata": {},
   "outputs": [
    {
     "data": {
      "text/plain": [
       "341"
      ]
     },
     "execution_count": 23,
     "metadata": {},
     "output_type": "execute_result"
    }
   ],
   "source": [
    "a = df_pos.DAY.value_counts()\n",
    "a.values.sum()"
   ]
  },
  {
   "cell_type": "code",
   "execution_count": 24,
   "metadata": {},
   "outputs": [
    {
     "data": {
      "image/png": "[encoded data removed]",
      "text/plain": [
       "<Figure size 432x288 with 1 Axes>"
      ]
     },
     "metadata": {},
     "output_type": "display_data"
    }
   ],
   "source": [
    "plt.pie(a.values, labels=a.index, autopct='%d%%')\n",
    "plt.show()"
   ]
  },
  {
   "cell_type": "code",
   "execution_count": 25,
   "metadata": {},
   "outputs": [],
   "source": [
    "pre_dep = df[df.PREMIUMDEPRECIATION > 0]\n",
    "pre_app = df[df.PREMIUMDEPRECIATION < 0]"
   ]
  },
  {
   "cell_type": "code",
   "execution_count": 26,
   "metadata": {},
   "outputs": [
    {
     "data": {
      "text/plain": [
       "23.505656108597282"
      ]
     },
     "execution_count": 26,
     "metadata": {},
     "output_type": "execute_result"
    }
   ],
   "source": [
    "pre_dep.NET.mean()"
   ]
  },
  {
   "cell_type": "code",
   "execution_count": 27,
   "metadata": {},
   "outputs": [
    {
     "data": {
      "text/plain": [
       "178.59485294117658"
      ]
     },
     "execution_count": 27,
     "metadata": {},
     "output_type": "execute_result"
    }
   ],
   "source": [
    "pre_app.NET.mean()"
   ]
  },
  {
   "cell_type": "code",
   "execution_count": 28,
   "metadata": {},
   "outputs": [
    {
     "data": {
      "text/plain": [
       "(442, 19)"
      ]
     },
     "execution_count": 28,
     "metadata": {},
     "output_type": "execute_result"
    }
   ],
   "source": [
    "pre_dep.shape"
   ]
  },
  {
   "cell_type": "code",
   "execution_count": 29,
   "metadata": {},
   "outputs": [
    {
     "data": {
      "text/plain": [
       "86.66666666666667"
      ]
     },
     "execution_count": 29,
     "metadata": {},
     "output_type": "execute_result"
    }
   ],
   "source": [
    "442/510*100"
   ]
  },
  {
   "cell_type": "code",
   "execution_count": 30,
   "metadata": {},
   "outputs": [
    {
     "data": {
      "text/plain": [
       "(68, 19)"
      ]
     },
     "execution_count": 30,
     "metadata": {},
     "output_type": "execute_result"
    }
   ],
   "source": [
    "pre_app.shape"
   ]
  },
  {
   "cell_type": "code",
   "execution_count": 31,
   "metadata": {},
   "outputs": [
    {
     "data": {
      "text/plain": [
       "13.333333333333334"
      ]
     },
     "execution_count": 31,
     "metadata": {},
     "output_type": "execute_result"
    }
   ],
   "source": [
    "68/510*100"
   ]
  },
  {
   "cell_type": "code",
   "execution_count": 32,
   "metadata": {},
   "outputs": [
    {
     "data": {
      "text/plain": [
       "10389.500000000002"
      ]
     },
     "execution_count": 32,
     "metadata": {},
     "output_type": "execute_result"
    }
   ],
   "source": [
    "pre_dep.NET.sum()"
   ]
  },
  {
   "cell_type": "code",
   "execution_count": 33,
   "metadata": {},
   "outputs": [
    {
     "data": {
      "text/plain": [
       "12144.45"
      ]
     },
     "execution_count": 33,
     "metadata": {},
     "output_type": "execute_result"
    }
   ],
   "source": [
    "pre_app.NET.sum()"
   ]
  },
  {
   "cell_type": "code",
   "execution_count": 34,
   "metadata": {},
   "outputs": [
    {
     "data": {
      "text/plain": [
       "(286, 19)"
      ]
     },
     "execution_count": 34,
     "metadata": {},
     "output_type": "execute_result"
    }
   ],
   "source": [
    "pre_dep_pos = pre_dep[pre_dep.NET > 0]\n",
    "pre_dep_pos.shape"
   ]
  },
  {
   "cell_type": "code",
   "execution_count": 35,
   "metadata": {},
   "outputs": [
    {
     "data": {
      "text/plain": [
       "64.70588235294117"
      ]
     },
     "execution_count": 35,
     "metadata": {},
     "output_type": "execute_result"
    }
   ],
   "source": [
    "286/442*100"
   ]
  },
  {
   "cell_type": "code",
   "execution_count": 36,
   "metadata": {},
   "outputs": [
    {
     "data": {
      "text/plain": [
       "(55, 19)"
      ]
     },
     "execution_count": 36,
     "metadata": {},
     "output_type": "execute_result"
    }
   ],
   "source": [
    "pre_app_pos = pre_app[pre_app.NET > 0]\n",
    "pre_app_pos.shape"
   ]
  },
  {
   "cell_type": "code",
   "execution_count": 37,
   "metadata": {},
   "outputs": [
    {
     "data": {
      "text/plain": [
       "80.88235294117648"
      ]
     },
     "execution_count": 37,
     "metadata": {},
     "output_type": "execute_result"
    }
   ],
   "source": [
    "55/68*100"
   ]
  },
  {
   "cell_type": "code",
   "execution_count": 38,
   "metadata": {},
   "outputs": [
    {
     "data": {
      "text/plain": [
       "38034.75"
      ]
     },
     "execution_count": 38,
     "metadata": {},
     "output_type": "execute_result"
    }
   ],
   "source": [
    "pre_dep_pos.NET.sum()"
   ]
  },
  {
   "cell_type": "code",
   "execution_count": 39,
   "metadata": {},
   "outputs": [
    {
     "data": {
      "text/plain": [
       "14799.200000000003"
      ]
     },
     "execution_count": 39,
     "metadata": {},
     "output_type": "execute_result"
    }
   ],
   "source": [
    "pre_app_pos.NET.sum()"
   ]
  },
  {
   "cell_type": "markdown",
   "metadata": {},
   "source": [
    "# INSIGHTS"
   ]
  },
  {
   "cell_type": "code",
   "execution_count": 40,
   "metadata": {},
   "outputs": [
    {
     "data": {
      "text/plain": [
       "'\\nTF - Trade Frequency\\nPPT - Points Per Trade\\n'"
      ]
     },
     "execution_count": 40,
     "metadata": {},
     "output_type": "execute_result"
    }
   ],
   "source": [
    "\"\"\"\n",
    "TF - Trade Frequency\n",
    "PPT - Points Per Trade\n",
    "\"\"\""
   ]
  },
  {
   "cell_type": "code",
   "execution_count": 41,
   "metadata": {},
   "outputs": [],
   "source": [
    "# a) Averagely, on a thursday, the Premium Depreciates the most.\n",
    "# b) If a Short Strangle is deployed, max gain will be on a thursday and one must not deploy this strategy on a Monday \n",
    "#    as Net Gain is Negative.\n",
    "# c) Averagely, when the option premium depreciates on the following day (TF: 86.66%), the average PPT is 23.5 whereas \n",
    "#    when the option premium appreciates on the following day (TF: 13.33%), the average PPT is 178.6\n",
    "# d) With only 13.33% TF, the NET Sum of such trades is comparatively greater i.e. 12144 option points against 10389 points.\n",
    "# e) There are more profitable Trades when the option premium appreciates on the following day i.e. 80.88% against 64.7%."
   ]
  }
 ],
 "metadata": {
  "kernelspec": {
   "display_name": "Python 3",
   "language": "python",
   "name": "python3"
  },
  "language_info": {
   "codemirror_mode": {
    "name": "ipython",
    "version": 3
   },
   "file_extension": ".py",
   "mimetype": "text/x-python",
   "name": "python",
   "nbconvert_exporter": "python",
   "pygments_lexer": "ipython3",
   "version": "3.6.5"
  }
 },
 "nbformat": 4,
 "nbformat_minor": 2
}
